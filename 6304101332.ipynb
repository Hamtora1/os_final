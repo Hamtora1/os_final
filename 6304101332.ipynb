{
  "nbformat": 4,
  "nbformat_minor": 0,
  "metadata": {
    "colab": {
      "provenance": [],
      "collapsed_sections": []
    },
    "kernelspec": {
      "name": "python3",
      "display_name": "Python 3"
    },
    "accelerator": "GPU"
  },
  "cells": [
    {
      "cell_type": "markdown",
      "metadata": {
        "id": "AZY4udbdlFmF"
      },
      "source": [
        "### วัตถุประสงค์การเรียนรู้\n",
        "1. เพื่อศึกษาการใช้คำสั่งภายใต้ระบบปฏิบัติการผ่าน google colab\n",
        "2. เพื่อศึกษาการเขียนโปรแกรมด้วยภาษา python\n",
        "3. เพื่อศึกษาภาษามือสำหรับการสื่อสาร และการเตรียมข้อมูลสำหรับการประยุกต์ในการจัดทำ Machine learning"
      ]
    },
    {
      "cell_type": "markdown",
      "metadata": {
        "id": "1jfbCw9xj3qU"
      },
      "source": [
        "### Google Colab\n",
        "\n",
        "Google colab เป็นประโยชน์สำหรับผู้เรียนโดยเฉพาะศึกษาที่สนใจในการทำงานเกี่ยวกับ Machine Learning และ Deep Learning ทุกคน โดย Google ทำให้เราสามารถใช้งาน GPU ฟรีบนคลาวด์ได้เป็นเวลา 12 ชั่วโมง ซึ่งน่าจะเพียงพอสำหรับการทำโครงการระดับศึกษา\n",
        "วิธีการทำได้ดังนี้:\n",
        "Google Colab > Runtime > Change Runtime type > GPU"
      ]
    },
    {
      "cell_type": "markdown",
      "metadata": {
        "id": "TlRLHxzElPVD"
      },
      "source": [
        "### ภาษามือ บนแหล่งข้อมูล Youtube\n",
        "ไม่มีคำตอบไหนที่ดีที่สุด ถ้าจะถามว่า  แหล่งข้อมูลที่ดีที่สุดสามารถค้นหาได้จากที่ไหน คำตอบคือ Youtube เป็นแหล่งข้อมูลที่รวบรวมวิดีโอทุกประเภทที่แตกต่างกัน ซึ่งสามารถให้บริการตามวัตถุประสงค์สำหรับชุดข้อมูลที่เราต้องการจากวิดีโอทุกประเภท\n",
        "ในตัวอย่างใช้วิดีโอ Youtube เพื่อสร้างชุดข้อมูลสำหรับผู้ที่พิการทางหู ซึ่งสามารถมองเห็นได้โดยใช้ภาษามือ"
      ]
    },
    {
      "cell_type": "markdown",
      "metadata": {
        "id": "2VdX5wgm7Ex0"
      },
      "source": [
        "การสร้างชุดข้อมูลทำอย่างไร?\n",
        "จากตัวอย่าง เราจะใช้ Google Colab และไลบรารี CV สำหรับสร้างชุดข้อมูลบน Google ไดรฟ์ โดยข้อมูลที่ได้จากการทำงานจะทำการเก็บข้อมูลทั้งหมดอยู่บนคลาวด์ "
      ]
    },
    {
      "cell_type": "code",
      "metadata": {
        "id": "Ii748yS5h_RG",
        "colab": {
          "base_uri": "https://localhost:8080/"
        },
        "outputId": "c472c49e-a77f-4b53-90bb-7dac4b740ee1"
      },
      "source": [
        "from google.colab import drive\n",
        "drive.mount('/content/drive/')"
      ],
      "execution_count": null,
      "outputs": [
        {
          "output_type": "stream",
          "name": "stdout",
          "text": [
            "Mounted at /content/drive/\n"
          ]
        }
      ]
    },
    {
      "cell_type": "code",
      "metadata": {
        "id": "WcckrAC3g60G",
        "colab": {
          "base_uri": "https://localhost:8080/"
        },
        "outputId": "127ddf3e-4287-42fb-b5aa-3895d9315e5c"
      },
      "source": [
        "%cd /content/drive/MyDrive/\n",
        "!mkdir SignLanguageDataset\n",
        "%cd SignLanguageDataset"
      ],
      "execution_count": null,
      "outputs": [
        {
          "output_type": "stream",
          "name": "stdout",
          "text": [
            "/content/drive/MyDrive\n",
            "mkdir: cannot create directory ‘SignLanguageDataset’: File exists\n",
            "/content/drive/MyDrive/SignLanguageDataset\n"
          ]
        }
      ]
    },
    {
      "cell_type": "code",
      "metadata": {
        "colab": {
          "base_uri": "https://localhost:8080/"
        },
        "id": "HtnmElMtP-QI",
        "outputId": "e9f15b86-ef3a-44a1-e2d9-2c8ef74c5fae"
      },
      "source": [
        "%cd '/content/drive/MyDrive'\n",
        "!ls -la"
      ],
      "execution_count": null,
      "outputs": [
        {
          "output_type": "stream",
          "name": "stdout",
          "text": [
            "/content/drive/MyDrive\n",
            "total 708553\n",
            "drwx------ 2 root root      4096 Oct 26  2020  งาน\n",
            "drwx------ 2 root root      4096 Mar 10 16:13  เสียง\n",
            "drwx------ 2 root root      4096 Oct 12  2021  วีดีโอ\n",
            "drwx------ 2 root root      4096 Oct 23  2021  เทคนิล\n",
            "drwx------ 2 root root      4096 Aug 18  2021 'การบ้าน ตัดต่อ'\n",
            "drwx------ 2 root root      4096 Jul 26 08:24  ที่เก็บไฟล์ภาพ\n",
            "drwx------ 2 root root      4096 Aug 15  2021  สะดุดรักยัยแฟนเช่า\n",
            "-rw------- 1 root root       121 Feb  6  2019 'ธนโชติ เตชะปฏิใานนท์ 01.gsite'\n",
            "-rw------- 1 root root     40347 Nov  7  2018  1010565_656502351029276_230126301_n.jpg\n",
            "drwx------ 2 root root      4096 Oct 28  2020 '16_ใช้ AI ตรวจจับจับภาพใบหน้าคนถูกแต่งด้วยPhotoshop '\n",
            "-rw------- 1 root root 105057328 Mar  6 19:18 'ภาพยนตร์ของฉัน 18.MOV'\n",
            "-rw------- 1 root root    415463 Aug 18  2021  19AEC3DF-14FE-4838-9818-59F3F8436995.jpeg\n",
            "-rw------- 1 root root       143 Dec 16  2020 'สเปรดชีตไม่มีชื่อ (1).gsheet'\n",
            "-rw------- 1 root root       143 Dec 16  2020  1.gsheet\n",
            "-rw------- 1 root root    116367 Feb  3  2021  1.jpg\n",
            "-rw------- 1 root root    472465 Feb  5  2022  20210309_125906.jpg\n",
            "-rw------- 1 root root   3347853 Aug 18  2021  20210619_123110_001.jpg\n",
            "-rw------- 1 root root   3559868 Aug 18  2021  20210619_123126.jpg\n",
            "-rw------- 1 root root 123000210 Mar 14 14:43 'ภาพยนตร์ของฉัน 20.mov'\n",
            "-rw------- 1 root root 173624323 Oct  9  2021 '20สิงหา เรื่อง Stack(lab).mov'\n",
            "-rw------- 1 root root    103999 Feb  3  2021  2.jpg\n",
            "-rw------- 1 root root      4071 Jul 28  2021  ใบงานที่3.ipynb\n",
            "-rw------- 1 root root    117779 Feb  3  2021  3.jpg\n",
            "-rw------- 1 root root       143 Dec 18  2021  คู่มือการติดตั้งโปรแกรม_3R.gdoc\n",
            "-rw------- 1 root root    172143 Feb  3  2021  4.5.jpg\n",
            "-rw------- 1 root root    193280 Nov  7  2018  5549_646887925324052_148824.jpg\n",
            "-rw------- 1 root root    110658 Nov  7  2018  5_7.jpg\n",
            "drwx------ 2 root root      4096 Jul  2  2020  6304101332\n",
            "drwx------ 2 root root      4096 Nov  6  2020 'ธนโชติ เตชะปฏิมานนท์ 6304101332'\n",
            "-rw------- 1 root root    134941 Nov  7  2018  6_3.jpg\n",
            "-rw------- 1 root root      1236 Aug 25  2021  ใบงานที่6.ipynb\n",
            "-rw------- 1 root root   1508726 Jul  2  2020  76752_1-ผสาน.pdf\n",
            "-rw------- 1 root root    205457 Dec  2  2019  911300285856_PayInSlipReport-1.pdf\n",
            "-rw------- 1 root root    128846 Oct 27  2020  A0E71542-F043-4A86-A8E4-2FCC42F894C0.jpeg\n",
            "-rw------- 1 root root     29282 Feb  1  2021  A6.1.png\n",
            "-rw------- 1 root root     40279 Feb  1  2021  A6.2.png\n",
            "-rw------- 1 root root     41447 Feb  1  2021  A6.3.png\n",
            "drwx------ 2 root root      4096 Sep 24  2020  Adobe\n",
            "-rw------- 1 root root   7407325 Oct 26  2020  สำเนา-ใช้-AI-ตรวจจับวัตถุในรูปภาพ-โดยใช้-งานกลุ่ม.pptx\n",
            "drwx------ 2 root root      4096 Jul 12  2019  Classroom\n",
            "drwx------ 2 root root      4096 Jul  9  2020 'Colab Notebooks'\n",
            "-rw------- 1 root root      2481 Aug  5  2021  Exam4_19.ipynb\n",
            "-rw------- 1 root root      1607 Aug  5  2021  Exam5.1_19.ipynb\n",
            "drwx------ 2 root root      4096 Nov  9  2020  FALdetector-master\n",
            "-rw------- 1 root root       143 Dec 23  2020  ฟอร์มไม่มีชื่อ.gform\n",
            "-rw------- 1 root root       143 Dec 16  2020  สเปรดชีตไม่มีชื่อ.gsheet\n",
            "-rw------- 1 root root    110319 Dec 19  2021  HeadDecoration.arproj\n",
            "drwx------ 2 root root      4096 Jul 13  2020  iLovePDF\n",
            "-rw------- 1 root root      2312 Aug 31  2020  ติว.ipynb\n",
            "-rw------- 1 root root      3032 Oct 20  2020 'Lab1 332.ipynb'\n",
            "-rw------- 1 root root  82229740 Mar 14 13:01 'Meeting in _General_-20220314_165045-Meeting Recording_01.mp4'\n",
            "-rw------- 1 root root    223257 Nov  7  2018  m.jpg\n",
            "-rw------- 1 root root  68659882 Mar 14 13:00 'New channel meeting-20220314_161132-Meeting Recording_01.mp4'\n",
            "-rw------- 1 root root   1228790 Oct  8  2021 'สำเนาของ pngtree-cute-hand-drawn-style-math-education-stripes-background-image_337560.mp4'\n",
            "-rw------- 1 root root  54562460 Aug  9 13:58  Project01.tm\n",
            "-rw------- 1 root root  64186577 Aug  9 10:07  project.tm\n",
            "-rw------- 1 root root     66076 Dec  7  2021  received_321927456187502.jpeg\n",
            "-rw------- 1 root root    117570 Jul  2  2020 'received_937854083332996-แปลง(1) - Page 1.pdf'\n",
            "drwx------ 2 root root      4096 Aug  9 15:03  SignLanguage\n",
            "drwx------ 2 root root      4096 Jul 24 08:07  SignLanguageDataset\n",
            "drwx------ 2 root root      4096 Jul  7 03:39  txtdirectory\n",
            "-rw------- 1 root root       317 Oct 26  2020  Untitled\n",
            "-rw------- 1 root root       939 Jul 27  2021  Untitled0.ipynb\n",
            "-rw------- 1 root root       351 Aug 11  2021  Untitled1.ipynb\n",
            "-rw------- 1 root root      2575 Oct  6  2021  Untitled2.ipynb\n",
            "-rw------- 1 root root       547 Aug  6  2021 'Untitled Diagram (1).drawio'\n",
            "-rw------- 1 root root       397 Aug 18  2021 'Untitled Diagram.drawio'\n",
            "-rw------- 1 root root  34224957 Oct 12  2021 'สำเนาของ videoplayback.mp4'\n",
            "drwx------ 2 root root      4096 Mar 14 13:02  vido\n",
            "drwx------ 2 root root      4096 Nov  9  2020  Work\n",
            "drwx------ 2 root root      4096 Aug 14  2021 'xhm 15 08 2021'\n"
          ]
        }
      ]
    },
    {
      "cell_type": "code",
      "metadata": {
        "id": "PiPLjIb56p8T",
        "colab": {
          "base_uri": "https://localhost:8080/"
        },
        "outputId": "251ba3aa-1341-42af-ae1a-b6a2bef71a49"
      },
      "source": [
        "!pip install pafy\n",
        "!pip install youtube-dl==2020.12.2"
      ],
      "execution_count": null,
      "outputs": [
        {
          "output_type": "stream",
          "name": "stdout",
          "text": [
            "Looking in indexes: https://pypi.org/simple, https://us-python.pkg.dev/colab-wheels/public/simple/\n",
            "Collecting pafy\n",
            "  Downloading pafy-0.5.5-py2.py3-none-any.whl (35 kB)\n",
            "Installing collected packages: pafy\n",
            "Successfully installed pafy-0.5.5\n",
            "Looking in indexes: https://pypi.org/simple, https://us-python.pkg.dev/colab-wheels/public/simple/\n",
            "Collecting youtube-dl==2020.12.2\n",
            "  Downloading youtube_dl-2020.12.2-py2.py3-none-any.whl (1.8 MB)\n",
            "\u001b[K     |████████████████████████████████| 1.8 MB 7.2 MB/s \n",
            "\u001b[?25hInstalling collected packages: youtube-dl\n",
            "Successfully installed youtube-dl-2020.12.2\n"
          ]
        }
      ]
    },
    {
      "cell_type": "code",
      "metadata": {
        "id": "pfvx1TxdtLLK"
      },
      "source": [
        "import imutils\n",
        "import cv2\n",
        "import pafy"
      ],
      "execution_count": null,
      "outputs": []
    },
    {
      "cell_type": "code",
      "metadata": {
        "id": "Jq_ye79dtU3a"
      },
      "source": [
        "#โหลดวีดดีโอ 10 คลิป\n",
        "url = 'https://www.youtube.com/watch?v=XaMNcL5Aku0'\n",
        "url = 'https://www.youtube.com/watch?v=bUIqGdxu4TE'\n",
        "url = 'https://www.youtube.com/watch?v=bhiNbtGZRJE'\n",
        "url = 'https://www.youtube.com/watch?v=MQ0p9Jv4hnM'\n",
        "url = 'https://www.youtube.com/watch?v=BWdQ6h7VXlQ'\n",
        "url = 'https://www.youtube.com/watch?v=b6Grm1mrzyo'\n",
        "url = 'https://www.youtube.com/watch?v=zohTHYF2img'\n",
        "url = 'https://www.youtube.com/watch?v=h6fGLgCuf8o'\n",
        "url = 'https://www.youtube.com/watch?v=JmSmgLAoFvo'\n",
        "url = 'https://www.youtube.com/watch?v=P76bTwh8WkA'\n",
        "video = pafy.new(url)\n",
        "videoStream = video.getbest()\n",
        "vidcap  = cv2.VideoCapture(videoStream.url)"
      ],
      "execution_count": null,
      "outputs": []
    },
    {
      "cell_type": "code",
      "metadata": {
        "id": "Ua39ONtQvRTx"
      },
      "source": [
        "def getFrame(time,frameCount):\n",
        "  vidcap.set(cv2.CAP_PROP_POS_MSEC,time)\n",
        "  frameDet, frame = vidcap.read()\n",
        "  print(\"frameDet: \"+ str(frameDet))\n",
        "  if frameDet:\n",
        "    frame = imutils.resize(frame,width=128)\n",
        "    cv2.imwrite(str(frameCount)+\".jpg\", frame)\n",
        "    print(str(frameCount)+\".jpg\")\n",
        "  return frameDet"
      ],
      "execution_count": null,
      "outputs": []
    },
    {
      "cell_type": "code",
      "metadata": {
        "id": "AiHJhtbijniW",
        "colab": {
          "base_uri": "https://localhost:8080/"
        },
        "outputId": "8055c83d-99d3-4d4b-f06b-6aa8e0c2b052"
      },
      "source": [
        "%cd '/content/drive/MyDrive/SignLanguageDataset'\n",
        "!mkdir SignLanguage_in_Office\n",
        "%cd SignLanguage_in_Office\n",
        "!mkdir vid1\n",
        "%cd vid1"
      ],
      "execution_count": null,
      "outputs": [
        {
          "output_type": "stream",
          "name": "stdout",
          "text": [
            "/content/drive/MyDrive/SignLanguageDataset\n",
            "mkdir: cannot create directory ‘SignLanguage_in_Office’: File exists\n",
            "/content/drive/MyDrive/SignLanguageDataset/SignLanguage_in_Office\n",
            "mkdir: cannot create directory ‘vid1’: File exists\n",
            "/content/drive/MyDrive/SignLanguageDataset/SignLanguage_in_Office/vid1\n"
          ]
        }
      ]
    },
    {
      "cell_type": "code",
      "source": [
        "!pwd"
      ],
      "metadata": {
        "colab": {
          "base_uri": "https://localhost:8080/"
        },
        "id": "gCBKCbERiGJG",
        "outputId": "041091e1-e82d-48ac-8d22-abaf1f77f661"
      },
      "execution_count": null,
      "outputs": [
        {
          "output_type": "stream",
          "name": "stdout",
          "text": [
            "/content/drive/MyDrive/SignLanguageDataset/SignLanguage_in_Office/vid1\n"
          ]
        }
      ]
    },
    {
      "cell_type": "code",
      "metadata": {
        "id": "LAUwtX32uHzJ",
        "colab": {
          "base_uri": "https://localhost:8080/"
        },
        "outputId": "cf7b1f3d-5de1-4ec9-ec92-302631208f1a"
      },
      "source": [
        "startTime = 0\n",
        "frameRate = 500\n",
        "frameCount = 1\n",
        "#-----------------------------------------------\n",
        "h,m,s = video.duration.split(sep=':')\n",
        "endTime = (int(h)*3600 + int(m)*60 +int(s))*1000\n",
        "#-----------------------------------------------\n",
        "Numframe = 100\n",
        "for time in range(startTime,endTime,frameRate):\n",
        "   print(\"[\"+str(time)+\"/\"+str(endTime)+\"]\") \n",
        "   frameCount = frameCount + 1   \n",
        "   time = round(time,2)\n",
        "   if(frameCount<=Numframe):\n",
        "      getFrame(time,frameCount)\n",
        "   else: break   "
      ],
      "execution_count": null,
      "outputs": [
        {
          "output_type": "stream",
          "name": "stdout",
          "text": [
            "[0/192000]\n",
            "frameDet: True\n",
            "2.jpg\n",
            "[500/192000]\n",
            "frameDet: True\n",
            "3.jpg\n",
            "[1000/192000]\n",
            "frameDet: True\n",
            "4.jpg\n",
            "[1500/192000]\n",
            "frameDet: True\n",
            "5.jpg\n",
            "[2000/192000]\n",
            "frameDet: True\n",
            "6.jpg\n",
            "[2500/192000]\n",
            "frameDet: True\n",
            "7.jpg\n",
            "[3000/192000]\n",
            "frameDet: True\n",
            "8.jpg\n",
            "[3500/192000]\n",
            "frameDet: True\n",
            "9.jpg\n",
            "[4000/192000]\n",
            "frameDet: True\n",
            "10.jpg\n",
            "[4500/192000]\n",
            "frameDet: True\n",
            "11.jpg\n",
            "[5000/192000]\n",
            "frameDet: True\n",
            "12.jpg\n",
            "[5500/192000]\n",
            "frameDet: True\n",
            "13.jpg\n",
            "[6000/192000]\n",
            "frameDet: True\n",
            "14.jpg\n",
            "[6500/192000]\n",
            "frameDet: True\n",
            "15.jpg\n",
            "[7000/192000]\n",
            "frameDet: True\n",
            "16.jpg\n",
            "[7500/192000]\n",
            "frameDet: True\n",
            "17.jpg\n",
            "[8000/192000]\n",
            "frameDet: True\n",
            "18.jpg\n",
            "[8500/192000]\n",
            "frameDet: True\n",
            "19.jpg\n",
            "[9000/192000]\n",
            "frameDet: True\n",
            "20.jpg\n",
            "[9500/192000]\n",
            "frameDet: True\n",
            "21.jpg\n",
            "[10000/192000]\n",
            "frameDet: True\n",
            "22.jpg\n",
            "[10500/192000]\n",
            "frameDet: True\n",
            "23.jpg\n",
            "[11000/192000]\n",
            "frameDet: True\n",
            "24.jpg\n",
            "[11500/192000]\n",
            "frameDet: True\n",
            "25.jpg\n",
            "[12000/192000]\n",
            "frameDet: True\n",
            "26.jpg\n",
            "[12500/192000]\n",
            "frameDet: True\n",
            "27.jpg\n",
            "[13000/192000]\n",
            "frameDet: True\n",
            "28.jpg\n",
            "[13500/192000]\n",
            "frameDet: True\n",
            "29.jpg\n",
            "[14000/192000]\n",
            "frameDet: True\n",
            "30.jpg\n",
            "[14500/192000]\n",
            "frameDet: True\n",
            "31.jpg\n",
            "[15000/192000]\n",
            "frameDet: True\n",
            "32.jpg\n",
            "[15500/192000]\n",
            "frameDet: True\n",
            "33.jpg\n",
            "[16000/192000]\n",
            "frameDet: True\n",
            "34.jpg\n",
            "[16500/192000]\n",
            "frameDet: True\n",
            "35.jpg\n",
            "[17000/192000]\n",
            "frameDet: True\n",
            "36.jpg\n",
            "[17500/192000]\n",
            "frameDet: True\n",
            "37.jpg\n",
            "[18000/192000]\n",
            "frameDet: True\n",
            "38.jpg\n",
            "[18500/192000]\n",
            "frameDet: True\n",
            "39.jpg\n",
            "[19000/192000]\n",
            "frameDet: True\n",
            "40.jpg\n",
            "[19500/192000]\n",
            "frameDet: True\n",
            "41.jpg\n",
            "[20000/192000]\n",
            "frameDet: True\n",
            "42.jpg\n",
            "[20500/192000]\n",
            "frameDet: True\n",
            "43.jpg\n",
            "[21000/192000]\n",
            "frameDet: True\n",
            "44.jpg\n",
            "[21500/192000]\n",
            "frameDet: True\n",
            "45.jpg\n",
            "[22000/192000]\n",
            "frameDet: True\n",
            "46.jpg\n",
            "[22500/192000]\n",
            "frameDet: True\n",
            "47.jpg\n",
            "[23000/192000]\n",
            "frameDet: True\n",
            "48.jpg\n",
            "[23500/192000]\n",
            "frameDet: True\n",
            "49.jpg\n",
            "[24000/192000]\n",
            "frameDet: True\n",
            "50.jpg\n",
            "[24500/192000]\n",
            "frameDet: True\n",
            "51.jpg\n",
            "[25000/192000]\n",
            "frameDet: True\n",
            "52.jpg\n",
            "[25500/192000]\n",
            "frameDet: True\n",
            "53.jpg\n",
            "[26000/192000]\n",
            "frameDet: True\n",
            "54.jpg\n",
            "[26500/192000]\n",
            "frameDet: True\n",
            "55.jpg\n",
            "[27000/192000]\n",
            "frameDet: True\n",
            "56.jpg\n",
            "[27500/192000]\n",
            "frameDet: True\n",
            "57.jpg\n",
            "[28000/192000]\n",
            "frameDet: True\n",
            "58.jpg\n",
            "[28500/192000]\n",
            "frameDet: True\n",
            "59.jpg\n",
            "[29000/192000]\n",
            "frameDet: True\n",
            "60.jpg\n",
            "[29500/192000]\n",
            "frameDet: True\n",
            "61.jpg\n",
            "[30000/192000]\n",
            "frameDet: True\n",
            "62.jpg\n",
            "[30500/192000]\n",
            "frameDet: True\n",
            "63.jpg\n",
            "[31000/192000]\n",
            "frameDet: True\n",
            "64.jpg\n",
            "[31500/192000]\n",
            "frameDet: True\n",
            "65.jpg\n",
            "[32000/192000]\n",
            "frameDet: True\n",
            "66.jpg\n",
            "[32500/192000]\n",
            "frameDet: True\n",
            "67.jpg\n",
            "[33000/192000]\n",
            "frameDet: True\n",
            "68.jpg\n",
            "[33500/192000]\n",
            "frameDet: True\n",
            "69.jpg\n",
            "[34000/192000]\n",
            "frameDet: True\n",
            "70.jpg\n",
            "[34500/192000]\n",
            "frameDet: True\n",
            "71.jpg\n",
            "[35000/192000]\n",
            "frameDet: True\n",
            "72.jpg\n",
            "[35500/192000]\n",
            "frameDet: True\n",
            "73.jpg\n",
            "[36000/192000]\n",
            "frameDet: True\n",
            "74.jpg\n",
            "[36500/192000]\n",
            "frameDet: True\n",
            "75.jpg\n",
            "[37000/192000]\n",
            "frameDet: True\n",
            "76.jpg\n",
            "[37500/192000]\n",
            "frameDet: True\n",
            "77.jpg\n",
            "[38000/192000]\n",
            "frameDet: True\n",
            "78.jpg\n",
            "[38500/192000]\n",
            "frameDet: True\n",
            "79.jpg\n",
            "[39000/192000]\n",
            "frameDet: True\n",
            "80.jpg\n",
            "[39500/192000]\n",
            "frameDet: True\n",
            "81.jpg\n",
            "[40000/192000]\n",
            "frameDet: True\n",
            "82.jpg\n",
            "[40500/192000]\n",
            "frameDet: True\n",
            "83.jpg\n",
            "[41000/192000]\n",
            "frameDet: True\n",
            "84.jpg\n",
            "[41500/192000]\n",
            "frameDet: True\n",
            "85.jpg\n",
            "[42000/192000]\n",
            "frameDet: True\n",
            "86.jpg\n",
            "[42500/192000]\n",
            "frameDet: True\n",
            "87.jpg\n",
            "[43000/192000]\n",
            "frameDet: True\n",
            "88.jpg\n",
            "[43500/192000]\n",
            "frameDet: True\n",
            "89.jpg\n",
            "[44000/192000]\n",
            "frameDet: True\n",
            "90.jpg\n",
            "[44500/192000]\n",
            "frameDet: True\n",
            "91.jpg\n",
            "[45000/192000]\n",
            "frameDet: True\n",
            "92.jpg\n",
            "[45500/192000]\n",
            "frameDet: True\n",
            "93.jpg\n",
            "[46000/192000]\n",
            "frameDet: True\n",
            "94.jpg\n",
            "[46500/192000]\n",
            "frameDet: True\n",
            "95.jpg\n",
            "[47000/192000]\n",
            "frameDet: True\n",
            "96.jpg\n",
            "[47500/192000]\n",
            "frameDet: True\n",
            "97.jpg\n",
            "[48000/192000]\n",
            "frameDet: True\n",
            "98.jpg\n",
            "[48500/192000]\n",
            "frameDet: True\n",
            "99.jpg\n",
            "[49000/192000]\n",
            "frameDet: True\n",
            "100.jpg\n",
            "[49500/192000]\n"
          ]
        }
      ]
    },
    {
      "cell_type": "code",
      "metadata": {
        "id": "RBWsz8cx7PN8",
        "colab": {
          "base_uri": "https://localhost:8080/"
        },
        "outputId": "014e7327-51c0-4ac9-d465-13085c269fdd"
      },
      "source": [
        "%cd '/content/drive/MyDrive/SignLanguageDataset/SignLanguage_in_Office/vid2'\n",
        "!pwd\n",
        "!ls -a"
      ],
      "execution_count": null,
      "outputs": [
        {
          "output_type": "stream",
          "name": "stdout",
          "text": [
            "[Errno 2] No such file or directory: '/content/drive/MyDrive/SignLanguageDataset/SignLanguage_in_Office/vid2'\n",
            "/content/drive/MyDrive/SignLanguageDataset/SignLanguage_in_Office/vid1\n",
            "/content/drive/MyDrive/SignLanguageDataset/SignLanguage_in_Office/vid1\n",
            "100.jpg  19.jpg  29.jpg  38.jpg  47.jpg  56.jpg  65.jpg  74.jpg  83.jpg  92.jpg\n",
            "10.jpg\t 20.jpg  2.jpg\t 39.jpg  48.jpg  57.jpg  66.jpg  75.jpg  84.jpg  93.jpg\n",
            "11.jpg\t 21.jpg  30.jpg  3.jpg\t 49.jpg  58.jpg  67.jpg  76.jpg  85.jpg  94.jpg\n",
            "12.jpg\t 22.jpg  31.jpg  40.jpg  4.jpg\t 59.jpg  68.jpg  77.jpg  86.jpg  95.jpg\n",
            "13.jpg\t 23.jpg  32.jpg  41.jpg  50.jpg  5.jpg\t 69.jpg  78.jpg  87.jpg  96.jpg\n",
            "14.jpg\t 24.jpg  33.jpg  42.jpg  51.jpg  60.jpg  6.jpg\t 79.jpg  88.jpg  97.jpg\n",
            "15.jpg\t 25.jpg  34.jpg  43.jpg  52.jpg  61.jpg  70.jpg  7.jpg\t 89.jpg  98.jpg\n",
            "16.jpg\t 26.jpg  35.jpg  44.jpg  53.jpg  62.jpg  71.jpg  80.jpg  8.jpg\t 99.jpg\n",
            "17.jpg\t 27.jpg  36.jpg  45.jpg  54.jpg  63.jpg  72.jpg  81.jpg  90.jpg  9.jpg\n",
            "18.jpg\t 28.jpg  37.jpg  46.jpg  55.jpg  64.jpg  73.jpg  82.jpg  91.jpg\n"
          ]
        }
      ]
    },
    {
      "cell_type": "code",
      "source": [
        "!ls -a"
      ],
      "metadata": {
        "colab": {
          "base_uri": "https://localhost:8080/"
        },
        "id": "As2UDzWCiBbK",
        "outputId": "d5e99dd7-ef81-470e-bb45-a17e87b21051"
      },
      "execution_count": null,
      "outputs": [
        {
          "output_type": "stream",
          "name": "stdout",
          "text": [
            "100.jpg  19.jpg  29.jpg  38.jpg  47.jpg  56.jpg  65.jpg  74.jpg  83.jpg  92.jpg\n",
            "10.jpg\t 20.jpg  2.jpg\t 39.jpg  48.jpg  57.jpg  66.jpg  75.jpg  84.jpg  93.jpg\n",
            "11.jpg\t 21.jpg  30.jpg  3.jpg\t 49.jpg  58.jpg  67.jpg  76.jpg  85.jpg  94.jpg\n",
            "12.jpg\t 22.jpg  31.jpg  40.jpg  4.jpg\t 59.jpg  68.jpg  77.jpg  86.jpg  95.jpg\n",
            "13.jpg\t 23.jpg  32.jpg  41.jpg  50.jpg  5.jpg\t 69.jpg  78.jpg  87.jpg  96.jpg\n",
            "14.jpg\t 24.jpg  33.jpg  42.jpg  51.jpg  60.jpg  6.jpg\t 79.jpg  88.jpg  97.jpg\n",
            "15.jpg\t 25.jpg  34.jpg  43.jpg  52.jpg  61.jpg  70.jpg  7.jpg\t 89.jpg  98.jpg\n",
            "16.jpg\t 26.jpg  35.jpg  44.jpg  53.jpg  62.jpg  71.jpg  80.jpg  8.jpg\t 99.jpg\n",
            "17.jpg\t 27.jpg  36.jpg  45.jpg  54.jpg  63.jpg  72.jpg  81.jpg  90.jpg  9.jpg\n",
            "18.jpg\t 28.jpg  37.jpg  46.jpg  55.jpg  64.jpg  73.jpg  82.jpg  91.jpg\n"
          ]
        }
      ]
    },
    {
      "cell_type": "code",
      "source": [
        "import glob\n",
        "import cv2\n",
        "import matplotlib.pyplot as plt"
      ],
      "metadata": {
        "id": "SA06inRgb-yn"
      },
      "execution_count": null,
      "outputs": []
    },
    {
      "cell_type": "code",
      "source": [
        "file = '/content/drive/MyDrive/SignLanguageDataset/SignLanguage_in_Office/vid2/*.jpg' \n",
        "glob.glob(file)\n",
        "# Using List Comprehension to read all images\n",
        "images = [cv2.imread(image) for image in glob.glob(file)]"
      ],
      "metadata": {
        "id": "y_upw_lLbzP_"
      },
      "execution_count": null,
      "outputs": []
    },
    {
      "cell_type": "code",
      "source": [
        "type(images)\n",
        "len(images)"
      ],
      "metadata": {
        "colab": {
          "base_uri": "https://localhost:8080/"
        },
        "id": "FpMjgv3ddu-f",
        "outputId": "8585f381-dfc3-4ff0-e605-57679a845afa"
      },
      "execution_count": null,
      "outputs": [
        {
          "output_type": "execute_result",
          "data": {
            "text/plain": [
              "0"
            ]
          },
          "metadata": {},
          "execution_count": 43
        }
      ]
    },
    {
      "cell_type": "code",
      "source": [
        "# Define row and cols in the figure\n",
        "rows, cols = 2, 4\n",
        "for i in range(0, len(images), rows*cols):\n",
        "    fig=plt.figure(figsize=(64, 64))\n",
        "    for j in range(0, cols*rows):\n",
        "        fig.add_subplot(rows, cols, j+1)\n",
        "        if(i+j<len(images)):\n",
        "           plt.imshow(images[i+j])\n",
        "    plt.show()"
      ],
      "metadata": {
        "id": "-BFNC4BtfRBQ"
      },
      "execution_count": null,
      "outputs": []
    }
  ]
}